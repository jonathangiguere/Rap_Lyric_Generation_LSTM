{
 "cells": [
  {
   "cell_type": "code",
   "execution_count": null,
   "metadata": {
    "colab": {
     "base_uri": "https://localhost:8080/",
     "height": 126
    },
    "colab_type": "code",
    "executionInfo": {
     "elapsed": 21247,
     "status": "ok",
     "timestamp": 1586060940211,
     "user": {
      "displayName": "Jesse Borg",
      "photoUrl": "https://lh3.googleusercontent.com/a-/AOh14GhJTIY1G60GY_OjYcCPZt5JdJCM6kkXTGAgRobe=s64",
      "userId": "14131079589536879976"
     },
     "user_tz": 240
    },
    "id": "hlntePnrksed",
    "outputId": "978aa160-c7e5-4e89-9e23-46bd9abe5aa2"
   },
   "outputs": [],
   "source": [
    "from google.colab import drive\n",
    "\n",
    "# Mount Google Drive\n",
    "drive.mount('/content/drive')"
   ]
  },
  {
   "cell_type": "code",
   "execution_count": 8,
   "metadata": {
    "colab": {},
    "colab_type": "code",
    "id": "MXCU53dUkdmU"
   },
   "outputs": [],
   "source": [
    "# Load Packages\n",
    "import tensorflow as tf\n",
    "from tensorflow.keras import backend\n",
    "#from __future__ import print_function\n",
    "from tensorflow.keras.callbacks import LambdaCallback\n",
    "from tensorflow.keras.models import Sequential, load_model, save_model\n",
    "from tensorflow.keras.layers import Dense, Activation, Dropout\n",
    "from tensorflow.keras.layers import LSTM\n",
    "from tensorflow.keras.optimizers import RMSprop, Adam\n",
    "from keras.utils.data_utils import get_file\n",
    "import keras\n",
    "import numpy as np\n",
    "import pandas as pd\n",
    "import random\n",
    "import sys\n",
    "import io\n",
    "import re\n",
    "import os"
   ]
  },
  {
   "cell_type": "code",
   "execution_count": null,
   "metadata": {
    "colab": {},
    "colab_type": "code",
    "id": "4O9E32UmkwNt"
   },
   "outputs": [],
   "source": [
    "os.chdir('/content/drive/My Drive/Colab Notebooks/NLP Group Project/')"
   ]
  },
  {
   "cell_type": "code",
   "execution_count": 3,
   "metadata": {
    "colab": {},
    "colab_type": "code",
    "id": "a-2y6o1JkmSp"
   },
   "outputs": [],
   "source": [
    "# Read Songs\n",
    "songs = pd.read_csv('drake-songs.csv')"
   ]
  },
  {
   "cell_type": "code",
   "execution_count": 4,
   "metadata": {
    "colab": {
     "base_uri": "https://localhost:8080/",
     "height": 35
    },
    "colab_type": "code",
    "executionInfo": {
     "elapsed": 473,
     "status": "ok",
     "timestamp": 1586061286506,
     "user": {
      "displayName": "Jesse Borg",
      "photoUrl": "https://lh3.googleusercontent.com/a-/AOh14GhJTIY1G60GY_OjYcCPZt5JdJCM6kkXTGAgRobe=s64",
      "userId": "14131079589536879976"
     },
     "user_tz": 240
    },
    "id": "ns3F69xMlCZF",
    "outputId": "6b46a81d-2c15-4dc5-dddb-3c1748c2d05e"
   },
   "outputs": [
    {
     "data": {
      "text/plain": [
       "367372"
      ]
     },
     "execution_count": 4,
     "metadata": {},
     "output_type": "execute_result"
    }
   ],
   "source": [
    "text = ''\n",
    "\n",
    "for index, row in songs['lyrics'].iteritems():\n",
    "    cleaned = str(row).lower().replace(' ', '\\n')\n",
    "    text = text + \" \".join(re.findall(r\"[a-z']+\", cleaned))\n",
    "    \n",
    "len(text)"
   ]
  },
  {
   "cell_type": "code",
   "execution_count": 5,
   "metadata": {
    "colab": {
     "base_uri": "https://localhost:8080/",
     "height": 35
    },
    "colab_type": "code",
    "executionInfo": {
     "elapsed": 593,
     "status": "ok",
     "timestamp": 1586061287975,
     "user": {
      "displayName": "Jesse Borg",
      "photoUrl": "https://lh3.googleusercontent.com/a-/AOh14GhJTIY1G60GY_OjYcCPZt5JdJCM6kkXTGAgRobe=s64",
      "userId": "14131079589536879976"
     },
     "user_tz": 240
    },
    "id": "x6tibuXslDAl",
    "outputId": "18eebd3e-d575-4446-df9b-7a9ea780f39c"
   },
   "outputs": [
    {
     "name": "stdout",
     "output_type": "stream",
     "text": [
      "total chars: 28\n"
     ]
    }
   ],
   "source": [
    "tokens = re.findall(r\"[a-z'\\s]\", text)\n",
    "\n",
    "chars = sorted(list(set(tokens)))\n",
    "print('total chars:', len(chars))\n",
    "char_indices = dict((c, i) for i, c in enumerate(chars))\n",
    "indices_char = dict((i, c) for i, c in enumerate(chars))"
   ]
  },
  {
   "cell_type": "code",
   "execution_count": 6,
   "metadata": {
    "colab": {
     "base_uri": "https://localhost:8080/",
     "height": 35
    },
    "colab_type": "code",
    "executionInfo": {
     "elapsed": 949,
     "status": "ok",
     "timestamp": 1586061289805,
     "user": {
      "displayName": "Jesse Borg",
      "photoUrl": "https://lh3.googleusercontent.com/a-/AOh14GhJTIY1G60GY_OjYcCPZt5JdJCM6kkXTGAgRobe=s64",
      "userId": "14131079589536879976"
     },
     "user_tz": 240
    },
    "id": "3WrcLkk1lGpH",
    "outputId": "306d235b-02fd-4b21-e3f5-4a05d0393405"
   },
   "outputs": [
    {
     "name": "stdout",
     "output_type": "stream",
     "text": [
      "nb sequences: 122444\n"
     ]
    }
   ],
   "source": [
    "maxlen = 40\n",
    "step = 3\n",
    "sentences = []\n",
    "next_chars = []\n",
    "\n",
    "for i in range(0, len(text) - maxlen, step):\n",
    "    sentences.append(text[i: i + maxlen])\n",
    "    next_chars.append(text[i + maxlen])\n",
    "    \n",
    "print('nb sequences:', len(sentences))"
   ]
  },
  {
   "cell_type": "code",
   "execution_count": 7,
   "metadata": {
    "colab": {},
    "colab_type": "code",
    "id": "OgKMP2MAlJIh"
   },
   "outputs": [],
   "source": [
    "x = np.zeros((len(sentences), maxlen, len(chars)), dtype=np.bool)\n",
    "y = np.zeros((len(sentences), len(chars)), dtype=np.bool)\n",
    "\n",
    "for i, sentence in enumerate(sentences):\n",
    "    for t, char in enumerate(sentence):\n",
    "        x[i, t, char_indices[char]] = 1\n",
    "    y[i, char_indices[next_chars[i]]] = 1"
   ]
  },
  {
   "cell_type": "code",
   "execution_count": 18,
   "metadata": {
    "colab": {
     "base_uri": "https://localhost:8080/",
     "height": 35
    },
    "colab_type": "code",
    "executionInfo": {
     "elapsed": 1047,
     "status": "ok",
     "timestamp": 1586061450801,
     "user": {
      "displayName": "Jesse Borg",
      "photoUrl": "https://lh3.googleusercontent.com/a-/AOh14GhJTIY1G60GY_OjYcCPZt5JdJCM6kkXTGAgRobe=s64",
      "userId": "14131079589536879976"
     },
     "user_tz": 240
    },
    "id": "rCwYtEISlLod",
    "outputId": "f18165ff-e4c7-4bce-823d-c1de72554019"
   },
   "outputs": [],
   "source": [
    "model = Sequential()\n",
    "model.add(LSTM(128, input_shape=(maxlen, len(chars)), return_sequences=True))\n",
    "model.add(LSTM(64))\n",
    "model.add(Dense(100))\n",
    "model.add(Activation('relu'))\n",
    "model.add(Dense(len(chars)))\n",
    "model.add(Activation('softmax'))\n",
    "\n",
    "model.compile(loss='categorical_crossentropy', optimizer=RMSprop(lr=0.01))"
   ]
  },
  {
   "cell_type": "code",
   "execution_count": 19,
   "metadata": {},
   "outputs": [
    {
     "name": "stdout",
     "output_type": "stream",
     "text": [
      "Model: \"sequential_1\"\n",
      "_________________________________________________________________\n",
      "Layer (type)                 Output Shape              Param #   \n",
      "=================================================================\n",
      "lstm_2 (LSTM)                (None, 40, 128)           80384     \n",
      "_________________________________________________________________\n",
      "lstm_3 (LSTM)                (None, 64)                49408     \n",
      "_________________________________________________________________\n",
      "dense_2 (Dense)              (None, 100)               6500      \n",
      "_________________________________________________________________\n",
      "activation_2 (Activation)    (None, 100)               0         \n",
      "_________________________________________________________________\n",
      "dense_3 (Dense)              (None, 28)                2828      \n",
      "_________________________________________________________________\n",
      "activation_3 (Activation)    (None, 28)                0         \n",
      "=================================================================\n",
      "Total params: 139,120\n",
      "Trainable params: 139,120\n",
      "Non-trainable params: 0\n",
      "_________________________________________________________________\n"
     ]
    }
   ],
   "source": [
    "model.summary()"
   ]
  },
  {
   "cell_type": "code",
   "execution_count": 11,
   "metadata": {
    "colab": {},
    "colab_type": "code",
    "id": "jeYNO7w6lQN5"
   },
   "outputs": [],
   "source": [
    "def sample(preds, temperature=1.0):\n",
    "    preds = np.asarray(preds).astype('float64')\n",
    "    preds = np.log(preds) / temperature\n",
    "    exp_preds = np.exp(preds)\n",
    "    preds = exp_preds / np.sum(exp_preds)\n",
    "    probas = np.random.multinomial(1, preds, 1)\n",
    "    return np.argmax(probas)"
   ]
  },
  {
   "cell_type": "code",
   "execution_count": 14,
   "metadata": {
    "colab": {},
    "colab_type": "code",
    "id": "CPzaNcoKlQRj"
   },
   "outputs": [],
   "source": [
    "def on_epoch_end(epoch, logs):\n",
    "    print('----- Generating text after Epoch: %d' % epoch)\n",
    "\n",
    "    start_index = random.randint(0, len(text) - maxlen - 1)\n",
    "    for diversity in [0.2, 0.5, 0.8]:\n",
    "        print('----- diversity:', diversity)\n",
    "\n",
    "        generated = ''\n",
    "        sentence = text[start_index: start_index + maxlen]\n",
    "        generated += sentence\n",
    "        print('----- Generating with seed: \"' + sentence + '\"')\n",
    "        sys.stdout.write(generated)\n",
    "\n",
    "        for i in range(250):\n",
    "            x_pred = np.zeros((1, maxlen, len(chars)))\n",
    "            for t, char in enumerate(sentence):\n",
    "                x_pred[0, t, char_indices[char]] = 1.\n",
    "\n",
    "            preds = model.predict(x_pred, verbose=0)[0]\n",
    "            next_index = sample(preds, diversity)\n",
    "            next_char = indices_char[next_index]\n",
    "\n",
    "            generated += next_char\n",
    "            sentence = sentence[1:] + next_char\n",
    "\n",
    "            sys.stdout.write(next_char)\n",
    "            sys.stdout.flush()\n",
    "        print()"
   ]
  },
  {
   "cell_type": "code",
   "execution_count": 21,
   "metadata": {
    "colab": {
     "base_uri": "https://localhost:8080/",
     "height": 1000
    },
    "colab_type": "code",
    "executionInfo": {
     "elapsed": 1259478,
     "status": "ok",
     "timestamp": 1586062727793,
     "user": {
      "displayName": "Jesse Borg",
      "photoUrl": "https://lh3.googleusercontent.com/a-/AOh14GhJTIY1G60GY_OjYcCPZt5JdJCM6kkXTGAgRobe=s64",
      "userId": "14131079589536879976"
     },
     "user_tz": 240
    },
    "id": "JBE44EZSlQV9",
    "outputId": "cc013f95-0f66-4036-e08f-d0a140b27f61",
    "scrolled": false
   },
   "outputs": [
    {
     "name": "stdout",
     "output_type": "stream",
     "text": [
      "Train on 122444 samples\n",
      "Epoch 1/15\n",
      "122368/122444 [============================>.] - ETA: 0s - loss: 1.9759----- Generating text after Epoch: 0\n",
      "----- diversity: 0.2\n",
      "----- Generating with seed: \"e of them want this shit more than i wan\"\n",
      "e of them want this shit more than i wanna that stare that still that stare the care the back that shit the that i know the still i got that stare that stare that i got the stare i got that start that shit that i know that stoust stary that i got that stare that start that stary that stare\n",
      "----- diversity: 0.5\n",
      "----- Generating with seed: \"e of them want this shit more than i wan\"\n",
      "e of them want this shit more than i wan me made that streach my stay that still we for i can't to time mach i can't still i caust you that saise to my head but i know the still come dass bet that still that you way to keel me hart how me i know that's some to the got that i can't and i me\n",
      "----- diversity: 0.8\n",
      "----- Generating with seed: \"e of them want this shit more than i wan\"\n",
      "e of them want this shit more than i wan my no mode keeclys me one toipt got just shit sting to lust and pudport backed i sill bufs all in the benlless done and to this gove i is hearim like wlell i'm suck my sop they dooid wastise i dic and on that's out got shase me how made and tally yo\n",
      "122444/122444 [==============================] - 106s 868us/sample - loss: 1.9759\n",
      "Epoch 2/15\n",
      "122368/122444 [============================>.] - ETA: 0s - loss: 1.5900----- Generating text after Epoch: 1\n",
      "----- diversity: 0.2\n",
      "----- Generating with seed: \" please give me time cause i'm searchin'\"\n",
      " please give me time cause i'm searchin' the the shit what i got a still the the funny and the look a thing the shit in the but i wanna the got the same the better what the same think i wanna think a work the shit and the but the shit for the hear the look a thing and the better she same t\n",
      "----- diversity: 0.5\n",
      "----- Generating with seed: \" please give me time cause i'm searchin'\"\n",
      " please give me time cause i'm searchin' the all the best the light think the the what i never love the don't need thing i say i dentin' on think i wanna furly that though but i'm think i sume but the light to and well my stand and was demin' i get i fell we pand the when the prough dresse\n",
      "----- diversity: 0.8\n",
      "----- Generating with seed: \" please give me time cause i'm searchin'\"\n",
      " please give me time cause i'm searchin' just that i'm girl i'm hill all the mind senreak dine on my night no now and just like thinks one on the digh you right guestynt you've really wall go cun that shout and fler the with wanna a purne them know when i want on a let get i enle win' that\n",
      "122444/122444 [==============================] - 108s 879us/sample - loss: 1.5900\n",
      "Epoch 3/15\n",
      "122368/122444 [============================>.] - ETA: 0s - loss: 1.4813- ETA:----- Generating text after Epoch: 2\n",
      "----- diversity: 0.2\n",
      "----- Generating with seed: \"one a strong one two white cups and i go\"\n",
      "one a strong one two white cups and i got a same i get it i get it i get it i get it i get it i get it i get it i get it i get it i get it i get it i get it i get it i get it i get it i get it i get it i get it i get it i get it i get it i get it i get it i get it i get it i get it i get i\n",
      "----- diversity: 0.5\n",
      "----- Generating with seed: \"one a strong one two white cups and i go\"\n",
      "one a strong one two white cups and i got the good that shit the back come this she start that are and we can't and i got me it i get it the dop i can't good this i said to the back enk the girl that i get i know that we going the the see how the down i know that shit it what the ghat the \n",
      "----- diversity: 0.8\n",
      "----- Generating with seed: \"one a strong one two white cups and i go\"\n",
      "one a strong one two white cups and i got a could be that think work i'm sare the fuck it no love we mall with the boy the bus the good me we know i feel that shit in the hund a lot it roes i know and down i got camposs be go make this the girl a lot that shit no droa i know that can't me \n",
      "122444/122444 [==============================] - 107s 874us/sample - loss: 1.4812\n",
      "Epoch 4/15\n",
      "122368/122444 [============================>.] - ETA: 0s - loss: 1.4151----- Generating text after Epoch: 3\n",
      "----- diversity: 0.2\n",
      "----- Generating with seed: \"not to give a fuck and stop fearin' the \"\n",
      "not to give a fuck and stop fearin' the been the money i got me i got a good the who you got a start i got me when you show me for me money the bottom you when you should i got a bround the way i got the bound the start the bought the preach be t"
     ]
    },
    {
     "name": "stderr",
     "output_type": "stream",
     "text": [
      "C:\\Users\\alexj\\Anaconda3\\lib\\site-packages\\ipykernel_launcher.py:3: RuntimeWarning: divide by zero encountered in log\n",
      "  This is separate from the ipykernel package so we can avoid doing imports until\n"
     ]
    },
    {
     "name": "stdout",
     "output_type": "stream",
     "text": [
      "he bottom the money the back the start the c\n",
      "----- diversity: 0.5\n",
      "----- Generating with seed: \"not to give a fuck and stop fearin' the \"\n",
      "not to give a fuck and stop fearin' the bough but you to me so i can't be in the breaked i need to part the gees got the shit gon' you do one yeah they got the chank me got the shit i'm doing you i'm youn' i had that you who it i can't be poess the probless when i want you don't fad you we\n",
      "----- diversity: 0.8\n",
      "----- Generating with seed: \"not to give a fuck and stop fearin' the \"\n",
      "not to give a fuck and stop fearin' the didn't to sown now you someone check the belaper i understand one yourselp been the screan now a m see you're from yeah that's it you roll the fact you to me the whole i fonge reach the nad the beerd back when i tryna rope march iffroppin' you that i\n",
      "122444/122444 [==============================] - 106s 868us/sample - loss: 1.4152\n",
      "Epoch 5/15\n",
      "122368/122444 [============================>.] - ETA: 0s - loss: 1.3681----- Generating text after Epoch: 4\n",
      "----- diversity: 0.2\n",
      "----- Generating with seed: \"was strung out mickey what you mean i'm \"\n",
      "was strung out mickey what you mean i'm a can and if you and i got a still on the cunty and i all the still and it i done take to my many to take to take to me it to got a say it i say it i got it it's okay it's on it it's okay it's on it's on it's on it's on it's on it's on it's on it's o\n",
      "----- diversity: 0.5\n",
      "----- Generating with seed: \"was strung out mickey what you mean i'm \"\n",
      "was strung out mickey what you mean i'm still in the girls and we should on portuc of it i need all the clader know oo many what i know i see that it all aes i got my bold on to take your gettin' like in it's and it it's okay it's on this though niggas on a good it now they niggas and the \n",
      "----- diversity: 0.8\n",
      "----- Generating with seed: \"was strung out mickey what you mean i'm \"\n",
      "was strung out mickey what you mean i'm see got with a receft to something bad it with me and if it's all so your bited up and to hard and sometimes as too my prach or by said to live to my blast any lape and talk it to back every niggas antle or day it's on the money diver me i can me it \n",
      "122444/122444 [==============================] - 105s 862us/sample - loss: 1.3683\n",
      "Epoch 6/15\n",
      "122368/122444 [============================>.] - ETA: 0s - loss: 1.3301----- Generating text after Epoch: 5\n",
      "----- diversity: 0.2\n",
      "----- Generating with seed: \" rats will never be honorable they know \"\n",
      " rats will never be honorable they know i got the bottom no not i get it i get it i get it i get it i get it i know i get it i get it i get it i get it i get it i don't need to the pran i get it i get it i get it i get it i get it i get it i get it i get it i get it i get it i get it i get\n",
      "----- diversity: 0.5\n",
      "----- Generating with seed: \" rats will never be honorable they know \"\n",
      " rats will never be honorable they know that what i was to all i do the beat you could think i can be i get a bangle i can't just a good along you started a little and i'm a good now my prathes love the guint to take my firty i know you think you never got me i'm the damn night i get it i \n",
      "----- diversity: 0.8\n",
      "----- Generating with seed: \" rats will never be honorable they know \"\n",
      " rats will never be honorable they know that i get it i'm on doen in my turn and i alooch the way to mul your child they know i go wishing do i do this your jald i never feel it i got it i get it you make sect the day drink alone in i'll in the shit i'm alore you're mall me done if for no \n",
      "122444/122444 [==============================] - 106s 866us/sample - loss: 1.3300\n",
      "Epoch 7/15\n",
      "122368/122444 [============================>.] - ETA: 0s - loss: 1.2966----- Generating text after Epoch: 6\n",
      "----- diversity: 0.2\n",
      "----- Generating with seed: \"re in my spot with a little more cash th\"\n",
      "re in my spot with a little more cash the boll the story lool the best i all the can't save the bange with the prease i been never say i do the best i talk they say i said i said the same they can stay the street they say the strippin' and the star me the way a lot of me the same the bange\n",
      "----- diversity: 0.5\n",
      "----- Generating with seed: \"re in my spot with a little more cash th\"\n",
      "re in my spot with a little more cash they get real for real i be did the sing breaka the back they be they can't see the obest i want all the shot a bright and i get the brifle bottle lintom at assouck to me the the shit shit work i ain't never talk to talk i go do the bent the freat can'\n",
      "----- diversity: 0.8\n",
      "----- Generating with seed: \"re in my spot with a little more cash th\"\n",
      "re in my spot with a little more cash they know they need me of women lonely the dance burrrassopt i got made they gotta say i know that somethin' they know i knows that i make preach a damafuh droppin all y'all face yeah sometimes on the than a way celesseveryver place memmentes since i j\n",
      "122444/122444 [==============================] - 106s 869us/sample - loss: 1.2968\n",
      "Epoch 8/15\n",
      "122368/122444 [============================>.] - ETA: 0s - loss: 1.2696----- Generating text after Epoch: 7\n",
      "----- diversity: 0.2\n",
      "----- Generating with seed: \"t expect assumptions babe i'm just tryna\"\n",
      "t expect assumptions babe i'm just tryna started in the way i got a don't do it i got a don't wanna go like it's the bad i got my woed i got my shit i got a don't know i know i got it i don't wanna go live it i don't wanna go like it i got my like i don't wanna go to get the world the can'\n",
      "----- diversity: 0.5\n",
      "----- Generating with seed: \"t expect assumptions babe i'm just tryna\"\n",
      "t expect assumptions babe i'm just tryna feel i do you think i don't have a kill my and i need to don't take the it's on the true i got my line it's and i hear you is to help it i don't shane it i got couple i don't shame in the dight i don't get it i get it i get it i get it i get it i ca\n",
      "----- diversity: 0.8\n",
      "----- Generating with seed: \"t expect assumptions babe i'm just tryna\"\n",
      "t expect assumptions babe i'm just tryna do on me you got me to see i got ever mothafucka never done i'm going be come and i do the big i'm buthing the tap i control lose think i'mma ba see you just ride from you it's man some on i'm couple to say it's about the bitch preceining that bobli\n",
      "122444/122444 [==============================] - 108s 879us/sample - loss: 1.2698\n",
      "Epoch 9/15\n",
      "122368/122444 [============================>.] - ETA: 0s - loss: 1.2447----- Generating text after Epoch: 8\n",
      "----- diversity: 0.2\n",
      "----- Generating with seed: \"ah i mean we hear about the money you be\"\n",
      "ah i mean we hear about the money you be the beatter i got me i got the band then i stay i get it i get it i get it i get it i get it i get it i get it i get it i get it i get it i get it i get it i get it i get it i get it i get it i get it i get it i get it i get it i get it i get it i g\n",
      "----- diversity: 0.5\n",
      "----- Generating with seed: \"ah i mean we hear about the money you be\"\n",
      "ah i mean we hear about the money you been pir than she ain't all a new take she get the bas always feel drink the been up and when you never wanna say the bride to this shit is big stay my face i'm start to stange on the money down for the but i to you get it she wanne a when i'm feeling \n",
      "----- diversity: 0.8\n",
      "----- Generating with seed: \"ah i mean we hear about the money you be\"\n",
      "ah i mean we hear about the money you been ready the lort on that what you don't gotta wanna sittina i probably change and say every right on your lab  hit mr all girl i know is pam es got of in you do it the probleottent but in all the come life and my mind up and when i'm all the way hea\n",
      "122444/122444 [==============================] - 107s 876us/sample - loss: 1.2448\n",
      "Epoch 10/15\n",
      "122368/122444 [============================>.] - ETA: 0s - loss: 1.2282----- Generating text after Epoch: 9\n",
      "----- diversity: 0.2\n",
      "----- Generating with seed: \"it months on the lease that's a come up \"\n",
      "it months on the lease that's a come up they still been the she like it i got so it i got so i don't wanna be i couldn't be the bridgite you don't get it i get it i get it it's been like it i want the beat i got money to see it oh yeah yeah yeah yeah yeah yeah yeah yeah yeah yeah yeah yeah\n",
      "----- diversity: 0.5\n",
      "----- Generating with seed: \"it months on the lease that's a come up \"\n"
     ]
    },
    {
     "name": "stdout",
     "output_type": "stream",
     "text": [
      "it months on the lease that's a come up on the screade i'm on the gless i'm just to the beam the beast the bity and i got my wordied ovos like i should be the whole thing i wanna be underpart that they to the bitch to but i don't have go dine how the stories to the fuck with somethin' they\n",
      "----- diversity: 0.8\n",
      "----- Generating with seed: \"it months on the lease that's a come up \"\n",
      "it months on the lease that's a come up all you i was so othin' only pimfel better this git ts bring you don't need to tell the still be but the pished on it and my bitch i heart been nigga of me through you busy up shut they say you need my lioul young that a same and i got shit up i'm ba\n",
      "122444/122444 [==============================] - 106s 867us/sample - loss: 1.2283\n",
      "Epoch 11/15\n",
      "122368/122444 [============================>.] - ETA: 0s - loss: 1.2102----- Generating text after Epoch: 10\n",
      "----- diversity: 0.2\n",
      "----- Generating with seed: \"ake along you know that i'm workin' i'll\"\n",
      "ake along you know that i'm workin' i'll be under the shit i got the shit i don't got the bitch to me they got to talkin' the shit i got the stuck it the story when i can see they should be the way i got the house they should be the same big to me they love you don't love you don't even ba\n",
      "----- diversity: 0.5\n",
      "----- Generating with seed: \"ake along you know that i'm workin' i'll\"\n",
      "ake along you know that i'm workin' i'll this i'm bably should take my love there's going everything you can tell me think that i got now shit i still really big tax the precese they remember but i need everything that i got niggas to the houstane i need to sprace closed on the big team an\n",
      "----- diversity: 0.8\n",
      "----- Generating with seed: \"ake along you know that i'm workin' i'll\"\n",
      "ake along you know that i'm workin' i'll now are trouble out to cut the she awvoth ex a shot for the rool i'm get to my friends from the tack to me call back because i'm with you know they love the new hun she'd ever don't have style this keep me to good to the love on me you do and i'm in\n",
      "122444/122444 [==============================] - 106s 862us/sample - loss: 1.2102\n",
      "Epoch 12/15\n",
      "122368/122444 [============================>.] - ETA: 0s - loss: 1.1924----- Generating text after Epoch: 11\n",
      "----- diversity: 0.2\n",
      "----- Generating with seed: \"e parking lot at the ritz girl i felt li\"\n",
      "e parking lot at the ritz girl i felt like i can see it all the point i got a go the shoat it the girl i got a started i know you know what i gotta give a bout the girl i got a change the cause i got a nemove and the big team the bound i got me i gotta give it the same i got it that i got \n",
      "----- diversity: 0.5\n",
      "----- Generating with seed: \"e parking lot at the ritz girl i felt li\"\n",
      "e parking lot at the ritz girl i felt like you need it the same there's cher i say it woal yeah stay you what i gotta wasting cause i made i take my messuce day one a take chante i fad a same girl but i gotta never feel the she party on the gousit when you don't mears of me you're be for t\n",
      "----- diversity: 0.8\n",
      "----- Generating with seed: \"e parking lot at the ritz girl i felt li\"\n",
      "e parking lot at the ritz girl i felt like the praised i think i'm the cars changes of you shit now that you about me girl you take my hate to change now i gotta carroh charde sound it know already like at everything you're the midd and what's the right  a say we go would be a high 'selpie\n",
      "122444/122444 [==============================] - 105s 855us/sample - loss: 1.1923\n",
      "Epoch 13/15\n",
      "122368/122444 [============================>.] - ETA: 0s - loss: 1.1765----- Generating text after Epoch: 12\n",
      "----- diversity: 0.2\n",
      "----- Generating with seed: \" rehearsal the camera's always rollin' s\"\n",
      " rehearsal the camera's always rollin' show they gotta say you need to decell the she sanged to the she started to me to control i get it i get it i get in a bound i get it i get it i get it i get it i get it i get it i get it i get it i get it i get it i get it i get it i get it i get it \n",
      "----- diversity: 0.5\n",
      "----- Generating with seed: \" rehearsal the camera's always rollin' s\"\n",
      " rehearsal the camera's always rollin' show there's that's they wanna fuck these days i say we had to hard my shit i need i'm trying oook the morgey just a learn to for wouldn't change some stand the gotta know lyf i can see they gotta come to the get a pangand i get on too back in the the\n",
      "----- diversity: 0.8\n",
      "----- Generating with seed: \" rehearsal the camera's always rollin' s\"\n",
      " rehearsal the camera's always rollin' somethin' to do me shot then i'm an est years and how like it's for work the getting for to i sawkswork't me phe how too much on me you're forever ald because you know you know that's to down i can't get town she rorson gotta alsane girl on my mind wo\n",
      "122444/122444 [==============================] - 105s 855us/sample - loss: 1.1766\n",
      "Epoch 14/15\n",
      "122368/122444 [============================>.] - ETA: 0s - loss: 1.1616----- Generating text after Epoch: 13\n",
      "----- diversity: 0.2\n",
      "----- Generating with seed: \"dead end my girl love me but fuck it my \"\n",
      "dead end my girl love me but fuck it my shit the stree to the contont to the pass the probles that i got a stand i know that i got to stand the club the story they should stand the back and i got a stand i don't stand the throwing and the stand that i know that i got a stand that you know \n",
      "----- diversity: 0.5\n",
      "----- Generating with seed: \"dead end my girl love me but fuck it my \"\n",
      "dead end my girl love me but fuck it my story i got to take the can for our more there's unforget that i got to my tendy things we got more everything we go the girl i got now towar a six afned to shout to fuck that shit love me you don't feel me how you can say no you want the game i was \n",
      "----- diversity: 0.8\n",
      "----- Generating with seed: \"dead end my girl love me but fuck it my \"\n",
      "dead end my girl love me but fuck it my mother money don't trust my lies ahead i know my nigga lase the one you trust you make it and matly siltin' i'm goin' on the begot i'm bout you know you we gon' stand it are traf cause you know myseaply sile she have a feeling sholf refer man the run\n",
      "122444/122444 [==============================] - 104s 851us/sample - loss: 1.1617\n",
      "Epoch 15/15\n",
      "122368/122444 [============================>.] - ETA: 0s - loss: 1.1488----- Generating text after Epoch: 14\n",
      "----- diversity: 0.2\n",
      "----- Generating with seed: \"but still let them girls in and tell 'em\"\n",
      "but still let them girls in and tell 'em to take the do you want it you do it they just never get it i get to you i got the six i got the begours in the girl i stand the way it wasn't take i mean i got the dozzy i got the do to the same i don't say it i do it to told me what i still well t\n",
      "----- diversity: 0.5\n",
      "----- Generating with seed: \"but still let them girls in and tell 'em\"\n",
      "but still let them girls in and tell 'em i still me they love it oh yeah that's like the girl i just was past a doang this they better on it i want a domcuse it's in the poy and i do to my fave it i'm trying it money my it's far and i ain't play you ang i hope you citches what a jd beep an\n",
      "----- diversity: 0.8\n",
      "----- Generating with seed: \"but still let them girls in and tell 'em\"\n",
      "but still let them girls in and tell 'em temmma ale always like you been will the mois these times reyelly way too men go and my oneh my pol yeah yeah yeah yeah that shit get it the busy who to works is i tumber my mote of tell hish ofl smoking what you in my wins always in the cnsher and \n",
      "122444/122444 [==============================] - 105s 857us/sample - loss: 1.1489\n"
     ]
    }
   ],
   "source": [
    "print_callback = LambdaCallback(on_epoch_end=on_epoch_end)\n",
    "\n",
    "history = model.fit(\n",
    "    x, \n",
    "    y,\n",
    "    batch_size=256,\n",
    "    epochs=15,\n",
    "    callbacks=[print_callback]\n",
    ")"
   ]
  },
  {
   "cell_type": "code",
   "execution_count": 22,
   "metadata": {},
   "outputs": [],
   "source": [
    "model.save('drake_character_model.h5')"
   ]
  },
  {
   "cell_type": "code",
   "execution_count": null,
   "metadata": {},
   "outputs": [],
   "source": []
  }
 ],
 "metadata": {
  "colab": {
   "authorship_tag": "ABX9TyN5DlgLLWN4fLcBv+vdUHbA",
   "collapsed_sections": [],
   "name": "lyric_generator.ipynb",
   "provenance": []
  },
  "kernelspec": {
   "display_name": "Python 3",
   "language": "python",
   "name": "python3"
  },
  "language_info": {
   "codemirror_mode": {
    "name": "ipython",
    "version": 3
   },
   "file_extension": ".py",
   "mimetype": "text/x-python",
   "name": "python",
   "nbconvert_exporter": "python",
   "pygments_lexer": "ipython3",
   "version": "3.7.6"
  }
 },
 "nbformat": 4,
 "nbformat_minor": 1
}
