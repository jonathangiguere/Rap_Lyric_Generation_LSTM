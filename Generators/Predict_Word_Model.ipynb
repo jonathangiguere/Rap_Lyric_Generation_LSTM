{
 "cells": [
  {
   "cell_type": "code",
   "execution_count": null,
   "metadata": {
    "colab": {
     "base_uri": "https://localhost:8080/",
     "height": 126
    },
    "colab_type": "code",
    "executionInfo": {
     "elapsed": 21247,
     "status": "ok",
     "timestamp": 1586060940211,
     "user": {
      "displayName": "Jesse Borg",
      "photoUrl": "https://lh3.googleusercontent.com/a-/AOh14GhJTIY1G60GY_OjYcCPZt5JdJCM6kkXTGAgRobe=s64",
      "userId": "14131079589536879976"
     },
     "user_tz": 240
    },
    "id": "hlntePnrksed",
    "outputId": "978aa160-c7e5-4e89-9e23-46bd9abe5aa2"
   },
   "outputs": [],
   "source": [
    "from google.colab import drive\n",
    "\n",
    "# Mount Google Drive\n",
    "drive.mount('/content/drive')"
   ]
  },
  {
   "cell_type": "code",
   "execution_count": 1,
   "metadata": {
    "colab": {},
    "colab_type": "code",
    "id": "MXCU53dUkdmU"
   },
   "outputs": [
    {
     "name": "stderr",
     "output_type": "stream",
     "text": [
      "Using TensorFlow backend.\n"
     ]
    }
   ],
   "source": [
    "# Load Packages\n",
    "import tensorflow as tf\n",
    "from tensorflow.keras import backend\n",
    "#from __future__ import print_function\n",
    "from tensorflow.keras.callbacks import LambdaCallback\n",
    "from tensorflow.keras.models import Sequential\n",
    "from tensorflow.keras.layers import Dense, Activation\n",
    "from tensorflow.keras.layers import LSTM\n",
    "from tensorflow.keras.optimizers import RMSprop, Adam\n",
    "from keras.utils.data_utils import get_file\n",
    "from keras.initializers import glorot_uniform\n",
    "from keras.models import load_model, save_model\n",
    "import keras\n",
    "import numpy as np\n",
    "import pandas as pd\n",
    "import random\n",
    "import sys\n",
    "import io\n",
    "import re\n",
    "import os"
   ]
  },
  {
   "cell_type": "code",
   "execution_count": null,
   "metadata": {
    "colab": {},
    "colab_type": "code",
    "id": "4O9E32UmkwNt"
   },
   "outputs": [],
   "source": [
    "os.chdir('/content/drive/My Drive/Colab Notebooks/NLP Group Project/')"
   ]
  },
  {
   "cell_type": "code",
   "execution_count": 2,
   "metadata": {
    "colab": {},
    "colab_type": "code",
    "id": "a-2y6o1JkmSp"
   },
   "outputs": [],
   "source": [
    "# Read Songs\n",
    "songs = pd.read_csv('drake-songs.csv')"
   ]
  },
  {
   "cell_type": "code",
   "execution_count": 3,
   "metadata": {
    "colab": {
     "base_uri": "https://localhost:8080/",
     "height": 35
    },
    "colab_type": "code",
    "executionInfo": {
     "elapsed": 473,
     "status": "ok",
     "timestamp": 1586061286506,
     "user": {
      "displayName": "Jesse Borg",
      "photoUrl": "https://lh3.googleusercontent.com/a-/AOh14GhJTIY1G60GY_OjYcCPZt5JdJCM6kkXTGAgRobe=s64",
      "userId": "14131079589536879976"
     },
     "user_tz": 240
    },
    "id": "ns3F69xMlCZF",
    "outputId": "6b46a81d-2c15-4dc5-dddb-3c1748c2d05e"
   },
   "outputs": [
    {
     "data": {
      "text/plain": [
       "367372"
      ]
     },
     "execution_count": 3,
     "metadata": {},
     "output_type": "execute_result"
    }
   ],
   "source": [
    "text = ''\n",
    "\n",
    "for index, row in songs['lyrics'].iteritems():\n",
    "    cleaned = str(row).lower().replace(' ', '\\n')\n",
    "    text = text + \" \".join(re.findall(r\"[a-z']+\", cleaned))\n",
    "    \n",
    "len(text)"
   ]
  },
  {
   "cell_type": "code",
   "execution_count": 4,
   "metadata": {
    "colab": {
     "base_uri": "https://localhost:8080/",
     "height": 35
    },
    "colab_type": "code",
    "executionInfo": {
     "elapsed": 593,
     "status": "ok",
     "timestamp": 1586061287975,
     "user": {
      "displayName": "Jesse Borg",
      "photoUrl": "https://lh3.googleusercontent.com/a-/AOh14GhJTIY1G60GY_OjYcCPZt5JdJCM6kkXTGAgRobe=s64",
      "userId": "14131079589536879976"
     },
     "user_tz": 240
    },
    "id": "x6tibuXslDAl",
    "outputId": "18eebd3e-d575-4446-df9b-7a9ea780f39c"
   },
   "outputs": [
    {
     "name": "stdout",
     "output_type": "stream",
     "text": [
      "total chars: 5865\n"
     ]
    }
   ],
   "source": [
    "tokens = text.replace(\"'\", '').split(' ')\n",
    "\n",
    "chars = sorted(list(set(tokens)))\n",
    "print('total chars:', len(chars))\n",
    "char_indices = dict((c, i) for i, c in enumerate(chars))\n",
    "indices_char = dict((i, c) for i, c in enumerate(chars))\n",
    "\n",
    "del char_indices['']\n",
    "del indices_char[0]"
   ]
  },
  {
   "cell_type": "code",
   "execution_count": 5,
   "metadata": {},
   "outputs": [],
   "source": [
    "maxlen = 15\n",
    "sentences = []\n",
    "next_chars = []\n",
    "for i in range(0, len(tokens)-maxlen-5, 1):\n",
    "    sentences.append(tokens[i:i+maxlen])\n",
    "    next_chars.append(tokens[i+maxlen])"
   ]
  },
  {
   "cell_type": "code",
   "execution_count": 6,
   "metadata": {
    "colab": {},
    "colab_type": "code",
    "id": "OgKMP2MAlJIh",
    "scrolled": true
   },
   "outputs": [
    {
     "ename": "KeyError",
     "evalue": "''",
     "output_type": "error",
     "traceback": [
      "\u001b[1;31m---------------------------------------------------------------------------\u001b[0m",
      "\u001b[1;31mKeyError\u001b[0m                                  Traceback (most recent call last)",
      "\u001b[1;32m<ipython-input-6-e8540d0fc1e8>\u001b[0m in \u001b[0;36m<module>\u001b[1;34m\u001b[0m\n\u001b[0;32m      3\u001b[0m \u001b[1;33m\u001b[0m\u001b[0m\n\u001b[0;32m      4\u001b[0m \u001b[1;32mfor\u001b[0m \u001b[0mi\u001b[0m\u001b[1;33m,\u001b[0m \u001b[0msentence\u001b[0m \u001b[1;32min\u001b[0m \u001b[0menumerate\u001b[0m\u001b[1;33m(\u001b[0m\u001b[0msentences\u001b[0m\u001b[1;33m)\u001b[0m\u001b[1;33m:\u001b[0m\u001b[1;33m\u001b[0m\u001b[1;33m\u001b[0m\u001b[0m\n\u001b[1;32m----> 5\u001b[1;33m     \u001b[0my\u001b[0m\u001b[1;33m[\u001b[0m\u001b[0mi\u001b[0m\u001b[1;33m,\u001b[0m \u001b[0mchar_indices\u001b[0m\u001b[1;33m[\u001b[0m\u001b[0mnext_chars\u001b[0m\u001b[1;33m[\u001b[0m\u001b[0mi\u001b[0m\u001b[1;33m]\u001b[0m\u001b[1;33m]\u001b[0m\u001b[1;33m]\u001b[0m \u001b[1;33m=\u001b[0m \u001b[1;36m1\u001b[0m\u001b[1;33m\u001b[0m\u001b[1;33m\u001b[0m\u001b[0m\n\u001b[0m\u001b[0;32m      6\u001b[0m     \u001b[1;32mfor\u001b[0m \u001b[0mt\u001b[0m\u001b[1;33m,\u001b[0m \u001b[0mchar\u001b[0m \u001b[1;32min\u001b[0m \u001b[0menumerate\u001b[0m\u001b[1;33m(\u001b[0m\u001b[0msentence\u001b[0m\u001b[1;33m)\u001b[0m\u001b[1;33m:\u001b[0m\u001b[1;33m\u001b[0m\u001b[1;33m\u001b[0m\u001b[0m\n\u001b[0;32m      7\u001b[0m         \u001b[0mx\u001b[0m\u001b[1;33m[\u001b[0m\u001b[0mi\u001b[0m\u001b[1;33m,\u001b[0m \u001b[0mt\u001b[0m\u001b[1;33m,\u001b[0m \u001b[0mchar_indices\u001b[0m\u001b[1;33m[\u001b[0m\u001b[0mchar\u001b[0m\u001b[1;33m]\u001b[0m\u001b[1;33m]\u001b[0m \u001b[1;33m=\u001b[0m \u001b[1;36m1\u001b[0m\u001b[1;33m\u001b[0m\u001b[1;33m\u001b[0m\u001b[0m\n",
      "\u001b[1;31mKeyError\u001b[0m: ''"
     ]
    }
   ],
   "source": [
    "x = np.zeros((len(sentences), maxlen, len(chars)), dtype=np.bool)\n",
    "y = np.zeros((len(sentences), len(chars)), dtype=np.bool)\n",
    "\n",
    "for i, sentence in enumerate(sentences):\n",
    "    y[i, char_indices[next_chars[i]]] = 1\n",
    "    for t, char in enumerate(sentence):\n",
    "        x[i, t, char_indices[char]] = 1"
   ]
  },
  {
   "cell_type": "code",
   "execution_count": 7,
   "metadata": {},
   "outputs": [],
   "source": [
    "model = tf.keras.models.load_model('drake_word_model.h5')"
   ]
  },
  {
   "cell_type": "code",
   "execution_count": 8,
   "metadata": {},
   "outputs": [],
   "source": [
    "def sample(preds, temperature=1.0):\n",
    "    preds = np.asarray(preds).astype('float64')\n",
    "    preds = np.log(preds) / temperature\n",
    "    exp_preds = np.exp(preds)\n",
    "    preds = exp_preds / np.sum(exp_preds)\n",
    "    probas = np.random.multinomial(1, preds[0], 5865)\n",
    "    return np.argmax(probas)"
   ]
  },
  {
   "cell_type": "code",
   "execution_count": 9,
   "metadata": {},
   "outputs": [],
   "source": [
    "def generate_text(model, seed, length, diversity):\n",
    "\n",
    "    maxlen = 15\n",
    "    generated = ''\n",
    "    sentence = tokens[seed: seed + maxlen]\n",
    "    \n",
    "    for i in sentence:\n",
    "        generated += str(i)\n",
    "        generated += ' '\n",
    "\n",
    "    sentence_list = ''\n",
    "    for i in sentence:\n",
    "        sentence_list += str(i) + ' '\n",
    "    print('----- Generating with seed: \"' + sentence_list + '\"')\n",
    "    \n",
    "    sys.stdout.write(generated)\n",
    "\n",
    "    for i in range(length):\n",
    "        x_pred = np.zeros((1, maxlen, len(chars)))\n",
    "        for t, char in enumerate(sentence):\n",
    "            x_pred[0, t, char_indices[char]] = 1.\n",
    "\n",
    "        preds = model.predict(x_pred, verbose=0)\n",
    "        next_index = sample(preds, diversity)\n",
    "        next_char = indices_char[next_index]\n",
    "\n",
    "        generated += next_char\n",
    "        sentence.append(next_char)\n",
    "        sentence.pop(0)\n",
    "\n",
    "        sys.stdout.write(next_char)\n",
    "        sys.stdout.write(' ')\n",
    "\n",
    "        sys.stdout.flush()\n",
    "\n",
    "    print()\n",
    "    print('----- Actual Text -----')\n",
    "    output = ''\n",
    "    for token in tokens[seed:seed+maxlen+length]:\n",
    "        output += str(token) + ' '\n",
    "    print(output)"
   ]
  },
  {
   "cell_type": "code",
   "execution_count": 10,
   "metadata": {
    "colab": {
     "base_uri": "https://localhost:8080/",
     "height": 144
    },
    "colab_type": "code",
    "executionInfo": {
     "elapsed": 61673,
     "status": "ok",
     "timestamp": 1586062979703,
     "user": {
      "displayName": "Jesse Borg",
      "photoUrl": "https://lh3.googleusercontent.com/a-/AOh14GhJTIY1G60GY_OjYcCPZt5JdJCM6kkXTGAgRobe=s64",
      "userId": "14131079589536879976"
     },
     "user_tz": 240
    },
    "id": "tSaFhYIwlQUL",
    "outputId": "a99960b9-5c87-4822-9f83-598b6d93c675",
    "scrolled": false
   },
   "outputs": [
    {
     "name": "stdout",
     "output_type": "stream",
     "text": [
      "----- Generating with seed: \"needs change and im the mofucking cashier nickels for my thoughts dimes in my bed \"\n",
      "needs change and im the mofucking cashier nickels for my thoughts dimes in my bed a i i your back you know the what this and im got a for night know im down do you and and know you you wanna be and like to be you and least and im be should girls \n",
      "----- Actual Text -----\n",
      "needs change and im the mofucking cashier nickels for my thoughts dimes in my bed quarters of the kush shape the lines in my head take my verses too serious ya hate me cause im the one to paint a vivid picture no hd yeah i want it all thats why i strive for it \n"
     ]
    }
   ],
   "source": [
    "generate_text(model, 123, 40, 0.5)"
   ]
  },
  {
   "cell_type": "markdown",
   "metadata": {},
   "source": [
    "Predicted!"
   ]
  },
  {
   "cell_type": "code",
   "execution_count": null,
   "metadata": {},
   "outputs": [],
   "source": []
  }
 ],
 "metadata": {
  "colab": {
   "authorship_tag": "ABX9TyN5DlgLLWN4fLcBv+vdUHbA",
   "collapsed_sections": [],
   "name": "lyric_generator.ipynb",
   "provenance": []
  },
  "kernelspec": {
   "display_name": "Python 3",
   "language": "python",
   "name": "python3"
  },
  "language_info": {
   "codemirror_mode": {
    "name": "ipython",
    "version": 3
   },
   "file_extension": ".py",
   "mimetype": "text/x-python",
   "name": "python",
   "nbconvert_exporter": "python",
   "pygments_lexer": "ipython3",
   "version": "3.7.4"
  }
 },
 "nbformat": 4,
 "nbformat_minor": 1
}
